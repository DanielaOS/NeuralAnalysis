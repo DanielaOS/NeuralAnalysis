{
 "cells": [
  {
   "cell_type": "markdown",
   "metadata": {},
   "source": [
    "# Local Field Potental (LFP)"
   ]
  },
  {
   "cell_type": "markdown",
   "metadata": {},
   "source": [
    "<div class=\"alert alert-block alert-info\">\n",
    "\n",
    "\n",
    "### ABOUT THIS LESSON \n",
    "---\n",
    "\n",
    "Lesson time: 60 m   \n",
    "Contributors: Davide Spalla\n",
    "\n",
    "\n",
    "**In this lesson you will learn:**\n",
    "- What the Local Field Potential is\n",
    "- How to filter the LFP signals and compute its power spectrum\n",
    "- How to identify prominent oscillations in the signal\n",
    "- How to perform time-frequency analysis to compute how the power content of different frequencies varies over time\n",
    "- How to detect oscillatory patterns using the instantaneous power trace\n",
    "\n"
   ]
  },
  {
   "cell_type": "code",
   "execution_count": null,
   "metadata": {
    "tags": []
   },
   "outputs": [],
   "source": [
    "import matplotlib.pyplot as plt\n",
    "import seaborn as sns\n",
    "import pickle\n",
    "import numpy as np\n",
    "import sys\n",
    "import os\n",
    "sys.path.append(os.path.abspath(\"code\"))\n",
    "from utils import download_data\n",
    "import lfp_functions as lf\n",
    "\n",
    "sns.set_theme(context='notebook',style='white',font_scale=1.5,\n",
    "              rc = {'axes.spines.top':False,'axes.spines.right':False,\n",
    "                     'image.cmap':plt.cm.jet})\n"
   ]
  },
  {
   "cell_type": "code",
   "execution_count": null,
   "metadata": {
    "tags": []
   },
   "outputs": [],
   "source": [
    "# Download lesson data\n",
    "download_data('https://surfdrive.surf.nl/files/index.php/s/7BosHgemAseANIc')"
   ]
  },
  {
   "cell_type": "markdown",
   "metadata": {},
   "source": [
    "## Introduction\n",
    "---\n",
    "The Local [Field Potential (LFP)](http://www.scholarpedia.org/article/Local_field_potential#:~:text=The%20local%20field%20potential%20) is the name that neuroscientists use to refer to the extracellular electric potential, i.e. the potential in the space around neurons.   \n",
    "\n",
    "The use of LFP signals to investigate neural activity is common in systems neuroscience, due to the relative ease of recording (a single electrode is sufficient to extract the signal) and the rich variety of oscillatory phenomena it allows to probe.\n",
    "\n",
    "The LFP results from the activity of the local neural population (in contrast with electrocorticography and electroencefalography, whose signal is the result of the activity of large cortical areas), but it is not directly related to spiking activity: the main contribution to LFP comes from the postsynaptic membrane potentials.\n",
    "\n",
    "In this lesson we will look at a series of preprocessing and analysis methods used in the analysis of LFP. They all rely on the fact that the LFP is a continuous signal (unlike spiking activity) usually sampled with very high time resolution (unlike calcium signals). This makes it tractable with a large family of signal processing tools.\n",
    "\n",
    "\n",
    " \n"
   ]
  },
  {
   "cell_type": "markdown",
   "metadata": {},
   "source": [
    "## Fourier analysis and power spectrum\n",
    "---\n",
    "Continuous signals can often be decomposed as a superposition of elementary building blocks. For a signal that is sampled for a long time, a useful description is obtained by decomposing it as a sum of sine and cosine waves with different frequencies.\n",
    "For a periodic signal of period $T$, this is called Fourier decomposition and is given by:\n",
    "\n",
    "$$x(t)=\\sum_{n=-\\infty}^{+\\infty} c_{n} e^{i\\frac{2\\pi}{T}nt}$$\n",
    "\n",
    "The complex exponentials are oscillator with different frequencies, and the fourier coefficients $c_{n}$ represents the weight of each oscillator in the decomposition of the signal.\n",
    "The weights $c_{n}$ are computed as \n",
    "\n",
    "$$c_{n}=\\frac{1}{T}\\int_{T}x(t)e^{i\\frac{2\\pi}{T}nt} dt$$\n",
    "\n",
    "This formula can be roughly interpreted as the covariance of the signal $x(t)$ (when its average over $T$ is zero) with the oscillatory pattern $e^{i\\frac{2\\pi}{T}nt}$.\n",
    "\n",
    "The fourier decomposition can be mathematically extended to non-periodic signals by sending the period $T$ to infinity. This is known as the Fourier transform.\n",
    "\n",
    "By taking the square modulus of the coefficients $c_{n}$, we obtain the power spectrum of the signal, that we can use to gauge the contributions of different frequencies."
   ]
  },
  {
   "cell_type": "markdown",
   "metadata": {},
   "source": [
    "<div class=\"alert alert-block alert-info\">\n",
    "\n",
    "### Nyquist frequency\n",
    "\n",
    "The sampling rate at which a signal is acquired sets a bound to the highest frequency that we can investigate with Fourier analysis. Intuitively, we do not have any information about variations in the signal that are *faster* than a sampling interval.\n",
    "\n",
    "The maximum frequency that we can resolve is called [Nyquist_frequency](https://en.wikipedia.org/wiki/Nyquist_frequency), and it is half of the sampling rate\n",
    "\n",
    "$$f_{max}=\\frac{1}{2\\Delta t}$$\n",
    "\n",
    "Where $\\Delta t$ is the time interval between samples."
   ]
  },
  {
   "cell_type": "markdown",
   "metadata": {},
   "source": [
    "<div class=\"alert alert-block alert-info\">\n",
    "\n",
    "### Detrending and de-averaging\n",
    "\n",
    "Fourier analysis assumes a *stationary* signal, i.e. a signal whose property do not change over time. \n",
    "This is often not the case in data recorded from the brain: for example, the average of the signal can be different from the beginning of the recording to the end.\n",
    "\n",
    "To avoid to pick up this difference as a low-frequency component, the signal is usually [detrended](): the variation of its mean from beginning to end is estimated (most commonly with a linear fit), and subtracted at each time from the original signal\n",
    "\n",
    "$$\\tilde{x}(t)= x(t)-(at+b)$$\n",
    "\n",
    "Where $a$ and $b$ are estimated with a fitting procedure.\n",
    "\n",
    "Also, usually the time average of the signal is subtracted to the signal itself: a non-zero average correspond to a big zero-frequency component, that can overshadow the rest of the power spectrum and is usually of no interest in the context of the frequency analysis.\n",
    "\n",
    "$$\\tilde{x}(t)=x(t)-<x(t)>_{T}$$\n"
   ]
  },
  {
   "cell_type": "markdown",
   "metadata": {},
   "source": [
    "### Example: theta rythm in moving rodents\n",
    "---\n",
    "The [theta rythm](https://en.wikipedia.org/wiki/Theta_wave) is a well known oscillatory pattern with a frequency of around 8 Hz that can be seen in the hippocampus of rodents during wake activity, and is particularly prominent [during locomotion](https://www.sciencedirect.com/science/article/abs/pii/S0006899398003904?via%3Dihub).  \n",
    "\n",
    "There are many hypothesis on the potential role of the theta oscillation, see [this review](https://www.annualreviews.org/doi/abs/10.1146/annurev-neuro-062012-170330) for an overview.\n",
    "\n",
    "We will use fourier analysis, and in particular the [Fast Fourier Transform (FFT)](https://en.wikipedia.org/wiki/Fast_Fourier_transform) algorithm to look at how the theta rythm shows in data recoded from a mouse moving around in an arena.  \n"
   ]
  },
  {
   "cell_type": "markdown",
   "metadata": {},
   "source": [
    "First, let's import the data: around ten minutes of LFP signal, recorded at a rate of 1000 Hz."
   ]
  },
  {
   "cell_type": "code",
   "execution_count": null,
   "metadata": {
    "tags": []
   },
   "outputs": [],
   "source": [
    "with open('data/moving_lfp.pickle', 'rb') as handle:\n",
    "    lfp_data = pickle.load(handle)\n",
    "\n",
    "lfp = lfp_data['lfp']\n",
    "sampling_rate = lfp_data['sampling_rate']\n",
    "print(f'Loaded {len(lfp)/sampling_rate} seconds of LFP, sampled at {sampling_rate} Hz')"
   ]
  },
  {
   "cell_type": "code",
   "execution_count": null,
   "metadata": {
    "tags": []
   },
   "outputs": [],
   "source": [
    "plt.figure(figsize=(10,5))\n",
    "plt.plot(np.linspace(0,2,2000),lfp[:2000])\n",
    "plt.xlabel('time (s)')\n",
    "plt.ylabel('voltage (mV)')"
   ]
  },
  {
   "cell_type": "markdown",
   "metadata": {},
   "source": [
    "There is a lot going on here, but a first thing that meets the eye is a rather prominent oscilaltion at around 8 Hz (8 times per second). Can we see it in the power spectrum? Let's look!"
   ]
  },
  {
   "cell_type": "code",
   "execution_count": null,
   "metadata": {
    "tags": []
   },
   "outputs": [],
   "source": [
    "from scipy.fft import fft, fftfreq\n",
    "\n",
    "n_samples = len(lfp)\n",
    "sample_dt = 1. / sampling_rate\n",
    "\n",
    "# we subtract the mean to get rid of the 0 frequency component in the spectrum\n",
    "centered_lfp = lfp - np.mean(lfp)\n",
    "\n",
    "transformed_signal = fft(centered_lfp) \n",
    "\n",
    "frequencies = fftfreq(n_samples,sample_dt) \n",
    "\n",
    "transformed_signal = transformed_signal[:n_samples//2]\n",
    "frequencies = frequencies[:n_samples//2]\n",
    "\n",
    "power = abs(transformed_signal)**2\n",
    "\n",
    "plt.figure(figsize = (10,5))\n",
    "plt.plot(frequencies,power)\n",
    "plt.xlim([0,100]) # restrict to \n",
    "plt.axvline(x=8 ,c='r',linestyle='--',label='8 Hz theta')\n",
    "plt.axvline(x=50 ,c='grey',linestyle='--',label='50 Hz electrical noise')\n",
    "\n",
    "plt.legend()\n"
   ]
  },
  {
   "cell_type": "markdown",
   "metadata": {},
   "source": [
    "We can see a clear peak around 8Hz. This is the well studied [theta frequency] band. In rodents, large activity in the theta band is known to be related to active behaviour and locomotion in particular. This makes sense with our data, that where collected from a mouse moving around in an arena."
   ]
  },
  {
   "cell_type": "markdown",
   "metadata": {},
   "source": [
    "Computing the frequency power spectrum over the whole session yields information about the frequency content of the overall signal, but erases all temporal features. To see more in detail what is happening at any given time, we have to move to [time-frequency analysis](https://en.wikipedia.org/wiki/Time%E2%80%93frequency_analysis) methods. Before doing that, let's look at a few useful concepts and techniques in signal porcessing."
   ]
  },
  {
   "cell_type": "markdown",
   "metadata": {},
   "source": [
    "## Filtering\n",
    "---\n",
    " A filter is a device that removes unwanted component of a signal. We will look at frequency filters, that get rid of some of the frequencies in the LFP time series.\n",
    "In the jargon, a *low-pass* filter is a filter getting rid of all the frequencies above a certain threshold frequency, a *high pass* filter eliminates all frequencies below a threshold, and a *band pass* filter, combining the two, will filter the signal in a given frequency band.\n",
    "\n",
    "In particular, we want to fitler out very low frequency components (as we did when we sbtracted the signal average, which can be interpreted as filtering away the 0 frequency component), and very high frequency, that act as noise for the scale we are interested to investigate.\n"
   ]
  },
  {
   "cell_type": "markdown",
   "metadata": {},
   "source": [
    "We won't go into the details of the mathematics of filters here. We will use the scipy implementation of a [Butterworth filter](https://en.wikipedia.org/wiki/Butterworth_filter), a filter that can be expressed as a complex polynomial of a chosen oder, and designed to have a response that is as flat as possible in the pass band, to avoid distorsion of the filtered signal.\n",
    "\n",
    "<figure> \n",
    "<img src=\"imgs/butterworth_transfer.png\" alt=\"tranfer\" width=\"600\" height=400>\n",
    "<figcaption>\n",
    "Frequency transfer function of a low-pass butterworth filter with cutoff frequency = 1. Note the log scale on the x axis.\n",
    "</figcaption>\n",
    " </figure>\n",
    "\n",
    "\n",
    "We will with the `scipy.signal.sosfilt` function, that applies the 'cascaded second order section method', a numerically stable implementation of the standard convolution procedure, that breaks a polynomial filter of high order in sequential application of second order filters."
   ]
  },
  {
   "cell_type": "code",
   "execution_count": null,
   "metadata": {
    "tags": []
   },
   "outputs": [],
   "source": [
    "from scipy.signal import butter\n",
    "from scipy.signal import sosfilt\n",
    "\n",
    "filter_order = 5 #the higher the order, the sharper the filter frequency response, \n",
    "                 #but with more computations and potental numerical instability\n",
    "low_f = 1\n",
    "high_f = 200\n",
    "\n",
    "#define filter object\n",
    "filter = butter(filter_order,[low_f,high_f],\n",
    "                btype='band', \n",
    "                output='sos', \n",
    "                fs=sampling_rate)\n",
    "                \n",
    "#apply filter to lfp       \n",
    "wideband_lfp = sosfilt(filter, lfp)\n",
    "\n",
    "plt.figure(figsize=(10,5))\n",
    "plt.plot(np.linspace(0,2,2000),lfp[:2000],label='raw signal')\n",
    "plt.plot(np.linspace(0,2,2000),wideband_lfp[:2000],label = 'wideband filtered')\n",
    "plt.xlabel('time (s)')\n",
    "plt.ylabel('voltage (mV)')"
   ]
  },
  {
   "cell_type": "markdown",
   "metadata": {},
   "source": [
    "Wideband filtering is commonly used to get rid of very low frequency information (such as the average value of the signal, as we did before by centering), and very high components. This allows us to concetrate on the part of the signal that we are interested in (the 1-200 Hz range is a typical one for hippocampal LFP, but this can change for different signals)."
   ]
  },
  {
   "cell_type": "markdown",
   "metadata": {},
   "source": [
    "We can use filters also to isolate a the particular frequency bands that we are interested in. Below, for example, we can isolate the theta band (8-12 Hz) the slow gamma gamma (20-45 Hz) and the fast gamma (100-140 Hz) components.\n",
    "We'll use a version of the code above that we wrapped in a `bandpass_filter` function."
   ]
  },
  {
   "cell_type": "code",
   "execution_count": null,
   "metadata": {
    "tags": []
   },
   "outputs": [],
   "source": [
    "theta_lfp = lf.bandpass_filter(lfp,low_f=8,high_f=12, sampling_rate=sampling_rate)\n",
    "slow_gamma_lfp = lf.bandpass_filter(lfp,low_f=20,high_f=45, sampling_rate=sampling_rate)\n",
    "fast_gamma_lfp = lf.bandpass_filter(lfp,low_f=100,high_f=140, sampling_rate=sampling_rate)\n",
    "\n",
    "plot_offset = 200 #to plot the signal on different lines\n",
    "\n",
    "plt.figure(figsize=(15,5))\n",
    "plt.plot(theta_lfp[:2000]+2*plot_offset,label='theta (8-12 Hz)')\n",
    "plt.plot(slow_gamma_lfp[:2000]+plot_offset,label = 'slow gamma (20-45 Hz)')\n",
    "plt.plot(fast_gamma_lfp[:2000],label = 'fast gamma (100-140 Hz)')\n",
    "\n",
    "plt.axis('off')\n",
    "plt.legend(loc=(0,1))"
   ]
  },
  {
   "cell_type": "markdown",
   "metadata": {},
   "source": [
    "## Time-frequency analysis\n",
    "---"
   ]
  },
  {
   "cell_type": "code",
   "execution_count": null,
   "metadata": {
    "tags": []
   },
   "outputs": [],
   "source": [
    "from scipy import signal\n",
    "from pywt import scale2frequency\n",
    "from pywt import cwt"
   ]
  },
  {
   "cell_type": "markdown",
   "metadata": {},
   "source": [
    "### Wavelets\n",
    "A wavelet is a **localized** oscillatory pattern. This means that, unlike the sine or cosine waves that extend indefinitely, the wavelet function $\\Psi$ has finite energy:\n",
    "$$\\int_{- \\infty}^{+\\infty} |\\Psi(x)|^{2} dx = E < \\infty$$\n",
    "\n",
    "This is usually achieved by constructing the wavelet function as an oscillatory function multiplied by a (typically exponential) decaying function.  \n",
    "\n",
    "A popular example is the morlet wavelet, with a cosine wave multiplied by a gaussian window (this is the real morlet wavelet, we will get to know its complex sibling soon).\n",
    "\n",
    "$$\\Psi(x,\\omega) = K \\cos(\\omega x)e^{-x^{2}} $$\n",
    "\n",
    "The parameter $\\omega$ determines the carrier frequencies, i.e. how many oscillations the wavelet is able to make before total dampening.\n",
    "\n",
    "Once we have our base wavelet, we can construct a whole family of them, by *translating* and *scaling* the bas function:\n",
    "$$\\Psi_{a,b}= K_{a} \\Psi(\\frac{x-b}{a})$$\n",
    "\n",
    "This functions will substitute the sines and cosines, and be the basis of the morlet transform.\n",
    "\n",
    "But first, let's look at the morlet wavelet: in the plot below, we can change the carrier frequency $\\omega$ and the scale $a$, to see what effect they have on the function."
   ]
  },
  {
   "cell_type": "code",
   "execution_count": null,
   "metadata": {
    "tags": []
   },
   "outputs": [],
   "source": [
    "\n",
    "from ipywidgets import interact\n",
    "import ipywidgets as widgets\n",
    "\n",
    "\n",
    "def plot_wavelet(scale,freq):\n",
    "    plt.figure(figsize=(10,5))\n",
    "    wavelet = signal.morlet(1000,s=scale,w=freq)\n",
    "    envelope = abs(wavelet)\n",
    "    plt.plot(wavelet.real,label='wavelet (real part)')\n",
    "    plt.plot(envelope, label = 'envelope')\n",
    "    plt.legend(loc=[1,1])\n",
    "    plt.axis('off')\n",
    "\n",
    "interact(plot_wavelet, scale = widgets.FloatSlider(min=.05, max=2, value=.5),\n",
    "                       freq = widgets.FloatSlider(min=1, max=20, value=5))"
   ]
  },
  {
   "cell_type": "markdown",
   "metadata": {},
   "source": [
    "### Continuous wavelet transform\n",
    "The [continuous wavelet transform](https://en.wikipedia.org/wiki/Continuous_wavelet_transform) works in a conceptually similar way to the Fourier transform, but with a different set of basis functions made by the chosen wavelet shape with different scales and locations.  \n",
    "The contribution of each wavelet is computed with a convolution with the signal.  \n",
    "Since the wavelet is a *localized* pattern, it's convolution with the signal gives information about a given frequency at a given time.  \n",
    "As for the fourier transform, we can use a complex wavelet to take into account the phase of the signal."
   ]
  },
  {
   "cell_type": "code",
   "execution_count": null,
   "metadata": {},
   "outputs": [],
   "source": [
    "from pywt import wavelist"
   ]
  },
  {
   "cell_type": "code",
   "execution_count": null,
   "metadata": {
    "tags": []
   },
   "outputs": [],
   "source": [
    "from pywt import scale2frequency\n",
    "from pywt import cwt\n",
    "\n",
    "start = 5 #in seconds\n",
    "end = 6 # in seconds\n",
    "\n",
    "sig = lfp[int(start*sampling_rate):int(end*sampling_rate)]\n",
    "sig = sig - np.mean(sig) # get rid of 0 frequency component\n",
    "\n",
    "plt.figure(figsize=(10,5))\n",
    "plt.plot(sig)\n",
    "\n",
    "# Spectrogram with morlet transform\n",
    "\n",
    "frequencies =  np.linspace(0.1,20,100)/sampling_rate\n",
    "wavelet = 'gaus1'\n",
    "scales = scale2frequency(wavelet, frequencies)\n",
    "cwtmatr, _ = cwt(sig, wavelet=wavelet, scales=scales,\n",
    "                  sampling_period=1.0/sampling_rate)\n",
    "plt.figure(figsize=(10,5))\n",
    "plt.imshow(abs(cwtmatr)**2, extent=[start,end,frequencies[-1]*sampling_rate,\n",
    "                         frequencies[0]*sampling_rate], aspect='auto', cmap='CMRmap')\n"
   ]
  },
  {
   "cell_type": "markdown",
   "metadata": {},
   "source": [
    "We can use the wavelet transform to compute the instantaneous power in a given frequency band: we take the spectrogram above, restrict it to the frequency band of interest and average it over frequencies (along the vertical axis). This gives us the average oscillatory power in the selected frequency band at each moment in time."
   ]
  },
  {
   "cell_type": "code",
   "execution_count": null,
   "metadata": {
    "tags": []
   },
   "outputs": [],
   "source": [
    "start = 0 #in seconds\n",
    "end = 10 # in seconds\n",
    "\n",
    "sig = lfp[int(start*sampling_rate):int(end*sampling_rate)]\n",
    "sig = sig - np.mean(sig) # get rid of 0 frequency component\n",
    "\n",
    "frequencies =  np.linspace(6,10,50)/sampling_rate\n",
    "wavelet = 'cmor1.0-1.0'\n",
    "scales = scale2frequency(wavelet, frequencies)\n",
    "cwtmatr, _ = cwt(sig, wavelet=wavelet, scales=scales,\n",
    "                  sampling_period=1.0/sampling_rate)\n",
    "\n",
    "power = np.mean(abs(cwtmatr)**2,axis=0)\n",
    "\n",
    "plt.figure(figsize=(10,5))\n",
    "plt.plot(np.linspace(start,end,len(power)),power)\n",
    "plt.xlabel('time (s)')\n",
    "plt.ylabel('power (a.u.)')"
   ]
  },
  {
   "cell_type": "markdown",
   "metadata": {},
   "source": [
    "### Example: ripple detection\n",
    "---\n",
    "[Sharp Wave Ripples (SWRs)](https://www.nature.com/articles/s41583-018-0077-1) are a prominent oscillation pattern found in the CA1 region of the hippocampus, during sleep or awake rests. They have been hypothesized to play an important role in the cortical consolidation of memories formed into the hippocampus (see this paper for a review: https://www.nature.com/articles/s41583-018-0077-1).\n",
    "\n",
    "We will use the wavelet transform to detect ripples from an LFP trace recorded in the hippocampus of a sleeping mouse. "
   ]
  },
  {
   "cell_type": "code",
   "execution_count": null,
   "metadata": {
    "tags": []
   },
   "outputs": [],
   "source": [
    "with open('data/sleep_lfp.pickle', 'rb') as handle:\n",
    "    lfp_data = pickle.load(handle)\n",
    "\n",
    "sleep_lfp = lfp_data['lfp']\n",
    "sampling_rate = lfp_data['sampling_rate']\n",
    "print(f'Loaded {len(lfp)/sampling_rate} seconds of LFP, sampled at {sampling_rate} Hz')"
   ]
  },
  {
   "cell_type": "code",
   "execution_count": null,
   "metadata": {
    "tags": []
   },
   "outputs": [],
   "source": [
    "def compute_ripple_power(signal,sampling_rate,low_f=100,high_f=250):\n",
    "    '''Takes lfp signal and sampling rate, returns instantaneous power in the specified band \n",
    "    (default is ripple band 100-250 Hz)'''\n",
    "    signal = signal - np.mean(signal) # get rid of 0 frequency component\n",
    "\n",
    "\n",
    "    frequencies =  np.linspace(low_f,high_f,50)/sampling_rate\n",
    "    wavelet = 'cmor1.0-1.0'\n",
    "    scales = scale2frequency(wavelet, frequencies)\n",
    "    cwtmatr, _ = cwt(signal, wavelet = wavelet, scales = scales,\n",
    "                    sampling_period=1.0/sampling_rate)\n",
    "\n",
    "\n",
    "    power = np.mean(abs(cwtmatr)**2,axis=0)\n",
    "\n",
    "    return power\n",
    "\n",
    "def ripple_idxs(ripple_mask):\n",
    "    '''\n",
    "    Takes logical ripple mask and returns a list of arrays. Each array correspond to a ripple\n",
    "    and contains its time idxs (relative to the provided ripple mask)\n",
    "    '''\n",
    "    ripple_starts = []\n",
    "    ripple_ends = []\n",
    "    for i in range(1, len(ripple_mask)):\n",
    "        if ripple_mask[i-1] == 0 and ripple_mask[i] == 1:\n",
    "            ripple_starts.append(i)\n",
    "        if ripple_mask[i-1] == 1 and ripple_mask[i] == 0:\n",
    "            ripple_ends.append(i)\n",
    "\n",
    "    # handle edge cases\n",
    "    if len(ripple_ends) > len(ripple_starts):\n",
    "        ripple_starts = [0]+ripple_starts  # if session starts with a ripple\n",
    "\n",
    "    if len(ripple_ends) < len(ripple_starts):\n",
    "        ripple_ends.append(len(ripple_mask))  # if session ends with a ripple\n",
    "\n",
    "    ripples = [np.arange(ripple_starts[i], ripple_ends[i])\n",
    "               for i in range(len(ripple_starts))]\n",
    "\n",
    "    return ripples\n",
    "\n",
    "def clean_ripples(ripples,lfp,ripple_len_th=None,amplitude_th=None):\n",
    "    '''takes list of ripples and corresponding signal, returns list of ripples cleaned of ripple that are shorter than specified \n",
    "    duration threshold or with amplitude larger than specified amplitude threshold (usually artifacts)'''\n",
    "    clean_ripples = [r for r in ripples if (len(r)>ripple_len_th and \\\n",
    "                    max(lfp[r])< amplitude_th and min(lfp[r])>-amplitude_th)] \n",
    "    return clean_ripples"
   ]
  },
  {
   "cell_type": "code",
   "execution_count": null,
   "metadata": {
    "tags": []
   },
   "outputs": [],
   "source": [
    "from scipy.stats import zscore\n",
    "\n",
    "ripple_th = 2\n",
    "\n",
    "ripple_power = compute_ripple_power(sleep_lfp,sampling_rate)\n",
    "zscored_power = zscore(ripple_power)\n",
    "\n",
    "ripple_mask = np.asarray([True if x>ripple_th else 0 for x in zscored_power])\n",
    "\n",
    "ripples = ripple_idxs(ripple_mask)\n",
    "\n",
    "ripples = clean_ripples(ripples,sleep_lfp,ripple_len_th=30, amplitude_th=1000)\n",
    "\n",
    "print(f'detected {len(ripples)} ripples')\n",
    "\n"
   ]
  },
  {
   "cell_type": "code",
   "execution_count": null,
   "metadata": {
    "tags": []
   },
   "outputs": [],
   "source": [
    "ripple_n = 1\n",
    "\n",
    "ripple_lfp = lf.bandpass_filter(sleep_lfp,low_f=100,high_f=250, sampling_rate=sampling_rate)\n",
    "\n",
    "\n",
    "plt.figure(figsize=(15,5))\n",
    "\n",
    "plt.subplot(1,3,1)\n",
    "onset = ripples[ripple_n][0]\n",
    "x = np.arange(-30,100)\n",
    "y = zscored_power[onset-30:onset+100]\n",
    "plt.plot(x,y)\n",
    "plt.axvline(x=0,linestyle='--',c='r',label='detected onset')\n",
    "plt.axhline(y=2,linestyle='--',c='k',label='ripple th')\n",
    "\n",
    "plt.title('ripple band power')\n",
    "plt.xlabel('time from onset (ms)')\n",
    "plt.ylabel('lfp')\n",
    "plt.legend()\n",
    "\n",
    "plt.subplot(1,3,2)\n",
    "onset = ripples[ripple_n][0]\n",
    "x = np.arange(-30,100)\n",
    "y = sleep_lfp[onset-30:onset+100]\n",
    "plt.plot(x,y)\n",
    "plt.axvline(x=0,linestyle='--',c='r',label='detected onset')\n",
    "plt.title('raw signal')\n",
    "plt.xlabel('time from onset (ms)')\n",
    "plt.ylabel('lfp')\n",
    "plt.legend()\n",
    "\n",
    "plt.subplot(1,3,3)\n",
    "onset = ripples[ripple_n][0]\n",
    "x = np.arange(-30,100)\n",
    "y = ripple_lfp[onset-30:onset+100]\n",
    "plt.plot(x,y)\n",
    "plt.axvline(x=0,linestyle='--',c='r',label='detected onset')\n",
    "plt.title('ripple-band filtered')\n",
    "plt.xlabel('time from onset (ms)')\n",
    "plt.ylabel('lfp')\n",
    "plt.legend()\n",
    "plt.tight_layout()\n"
   ]
  },
  {
   "cell_type": "markdown",
   "metadata": {},
   "source": [
    "<div class=\"alert alert-block alert-info\">\n",
    "\n",
    "\n",
    "### Key points \n",
    "\n",
    "- The fourier transform of the LFP signal gives information about its frequency content (i.e. which frequencies are have more weights) on average in the given observation window.\n",
    "- Filtering can be used to isolate and inspect the signal in certain frequency bands, as well as eliminating the high or low frequency component when they get in our way.\n",
    "- Time-Frequency analysis, with wavelet transforms, can give insights about the local, time-by-time frequency content\n",
    "- There is a foundamental tradeoff between the time and frequency resolution, due to the uncertainty principle"
   ]
  },
  {
   "cell_type": "markdown",
   "metadata": {},
   "source": [
    "<div class=\"alert alert-block alert-info\">\n",
    "\n",
    "\n",
    "### References and resources\n",
    "\n",
    "**Books & papers**\n",
    "*  a Scholarpedia aricle of LFP and its interpretation http://www.scholarpedia.org/article/Local_field_potential#:~:text=The%20local%20field%20potential%20\n",
    "\n"
   ]
  },
  {
   "cell_type": "markdown",
   "metadata": {},
   "source": [
    "## Exercises\n",
    "You can find the exercises for this lessons in [exercises.ipynp](exercises.ipynb)"
   ]
  }
 ],
 "metadata": {
  "kernelspec": {
   "display_name": "Python 3 (ipykernel)",
   "language": "python",
   "name": "python3"
  },
  "language_info": {
   "codemirror_mode": {
    "name": "ipython",
    "version": 3
   },
   "file_extension": ".py",
   "mimetype": "text/x-python",
   "name": "python",
   "nbconvert_exporter": "python",
   "pygments_lexer": "ipython3",
   "version": "3.12.2"
  },
  "vscode": {
   "interpreter": {
    "hash": "0201dc033e73d5d7d4552be487102290cca73bd09cc0b0684f19ff73d4e0c0e2"
   }
  }
 },
 "nbformat": 4,
 "nbformat_minor": 4
}
