{
 "cells": [
  {
   "cell_type": "markdown",
   "metadata": {},
   "source": [
    "## Exercise 1: Explore filter parameters\n",
    "\n",
    "In this exercises you will explore how different parameters affect the filtering process.\n",
    "\n",
    "1. Import the data from `data/moving_lfp.pickle` (I should already have this)\n",
    "2. Take a few seconds of the data and filter them in different frequency bands, plotting the resulting signal. Fix the central frequency and play with the width of the band. The, try to change the central frequency of the band.\n",
    "3. Change the order of the filter whilst keeping the frequency band fixed. How does the signal change? How does the computing time change? "
   ]
  },
  {
   "cell_type": "code",
   "execution_count": null,
   "metadata": {},
   "outputs": [],
   "source": []
  }
 ],
 "metadata": {
  "kernelspec": {
   "display_name": ".venv",
   "language": "python",
   "name": "python3"
  },
  "language_info": {
   "name": "python",
   "version": "3.12.2"
  }
 },
 "nbformat": 4,
 "nbformat_minor": 2
}
