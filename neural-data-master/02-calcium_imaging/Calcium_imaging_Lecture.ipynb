{
 "cells": [
  {
   "cell_type": "markdown",
   "metadata": {},
   "source": [
    "# Calcium imaging \n",
    "\n",
    "**What is calcium imaging?**\n",
    "\n",
    "Calcium imaging is a technique used to perform optical physioloy, i.e., to monitor the electrical activity of neurons with an optical system\n",
    "\n",
    "A calcium indicator is either injected or genetically encoded in the cell soma. This indicator is a fluorescent protein that binds calcium such that a fluorescence signal is emitted when there is a change in clacium concentration. \n",
    "\n",
    "Influx or outflux of calcium molecules in cells is related to the generation of spikes meaning we can use changes in fluorescence as a proxy for neural activity. As flourescence can be seen with a microscope, we can use this technique to directly visualize (sort of) neural activity.\n",
    "\n",
    "**Imaging techniques**\n",
    "\n",
    "The are two main techniques for detecting calcium fluoresnce. **One-photon** and **Two-photon** microscopy. The use of either will depend on the specific scientific questions and available resources.\n",
    "\n",
    "On the one hand, mini-endoscopes (small microscopes with one-photon technology) are portable and can be used in freely moving animals, while two-photon microscopy requires a laser set up where the animal needs to have its head fixed. The experimental cost in the latter are much higher.\n",
    "\n",
    "On the other ahand, excitation plane of two-photon microscopy is uch well defined as tissue emitted light intensity decays as $\\frac{1}{l^2}$ from the focal plane. For one-proton microscopy, it decays slower. This fact makes it hasder to create appropriate pre processing algorithms to extract calcium fluctuation as the background also includes activity from different cells in other focal planes)."
   ]
  }
 ],
 "metadata": {
  "language_info": {
   "name": "python"
  }
 },
 "nbformat": 4,
 "nbformat_minor": 2
}
