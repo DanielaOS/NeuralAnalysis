{
 "cells": [
  {
   "cell_type": "markdown",
   "metadata": {},
   "source": [
    "# GLM - Exercises\n",
    "\n",
    "#### Exercise 1\n",
    "\n",
    "Determine the effect of stimulus sequence duration on RF estimates. To do this, repeat the above steps for different durations (5, 10, 20, 40, 80, 160, 320, 640). Compute the Pearson correlation between true and estimated receptive fields for each duration to quantify the accuracy of the (ML) estimator.\n",
    "\n",
    "As the response generation process is stochastic, compute the average across 10 realizations for the same duration and plot the average correlation as a function of duration. How is the recording duration related to the ability to recover the true receptive field?\n",
    "_____\n"
   ]
  },
  {
   "cell_type": "code",
   "execution_count": 1,
   "metadata": {},
   "outputs": [],
   "source": [
    "import numpy as np \n",
    "import matplotlib.pyplot as plt"
   ]
  },
  {
   "cell_type": "code",
   "execution_count": 2,
   "metadata": {},
   "outputs": [],
   "source": [
    "def simulate_linear_response(duration, dt=0.1, std_dev=1, vf_size = (15,15)):\n",
    "\n",
    "    # CONSTRUCT THE DESIGN MATRIX\n",
    "    n_bins = int(duration / dt)\n",
    "    S = std_dev * np.random.randn(n_bins, vf_size[0], vf_size[1])\n",
    "    \n",
    "    # CONSTRUCT THE FILTER - GROUND TRUTH\n",
    "    mu, sigma = (8,8), (4,4)\n",
    "    angle, phase, frequency = 45, 0, 0.085\n",
    "    \n",
    "    xx, yy = np.meshgrid(1 + np.arange(vf_size[0]), 1 + np.arange(vf_size[1]))\n",
    "    # Gaussian envelope\n",
    "    G = np.exp( -(xx - mu[0])**2 / (2 * sigma[0]) - (yy - mu[1])**2 / (2 * sigma[1]))\n",
    "    # Spatial modulation\n",
    "    phi = np.deg2rad(angle)\n",
    "    xxr = xx * np.cos(phi)\n",
    "    yyr = yy * np.sin(phi)\n",
    "    xyr = (xxr + yyr) * (2 * np.pi) * 2 * frequency\n",
    "    Sn = np.cos(xyr + phase)\n",
    "\n",
    "    K = G * Sn\n",
    "    K /= np.max(np.abs(K))\n",
    "\n",
    "    # SIMULATE NEURON'S RESPONSE\n",
    "    noise_variance, offset = 1, 2\n",
    "    \n",
    "    K_flat = K.ravel()                   \n",
    "    K_flat = np.hstack((K.flat, offset)) \n",
    "\n",
    "    S_flat = S.reshape(S.shape[0], S.shape[1] * S.shape[2]) \n",
    "    S_flat = np.hstack((S_flat, np.ones((n_bins, 1))))       \n",
    "\n",
    "    ks = K_flat @ S_flat.T    \n",
    "    r = ks                   \n",
    "    r = r + np.sqrt(noise_variance) * np.random.randn(n_bins)\n",
    "\n",
    "    return r, S_flat, vf_size, K\n",
    "\n",
    "def reconstruct_filter(r, S_flat, vf_size):\n",
    "    K_hat = np.linalg.pinv(S_flat.T @ S_flat) @ (S_flat.T @ r)\n",
    "    K_hat = K_hat[:-1].reshape(vf_size)\n",
    "    return K_hat\n",
    "\n",
    "def pearson_correlation(k, k_estimate):\n",
    "    k_flat, k_estimate_flat = k.ravel(), k_estimate.ravel()\n",
    "    pc = (np.inner(k_flat, k_estimate_flat)) / (np.linalg.norm(k_flat) * np.linalg.norm(k_estimate_flat))\n",
    "    return pc"
   ]
  },
  {
   "cell_type": "code",
   "execution_count": 12,
   "metadata": {},
   "outputs": [],
   "source": [
    "durations1 = np.arange(10,300,50)\n",
    "durations2 = np.arange(300, 600, 1)\n",
    "durations = np.concatenate((durations1, durations2))\n",
    "trials_per_duration = 10\n",
    "\n",
    "for i, duration in enumerate(durations):\n",
    "    pearsons = np.zeros((len(durations), trials_per_duration))\n",
    "    \n",
    "    for trial in range(trials_per_duration):\n",
    "        r, S_flat, vf_size, K = simulate_linear_response(duration)\n",
    "        K_estimate = reconstruct_filter(r, S_flat, vf_size)\n",
    "        pearsons[i, trial] = pearson_correlation(K, K_estimate)\n",
    "\n",
    "avg_pearsons = np.mean(pearsons, axis = 1)"
   ]
  },
  {
   "cell_type": "code",
   "execution_count": 14,
   "metadata": {},
   "outputs": [
    {
     "data": {
      "image/png": "[encoded data removed]",
      "text/plain": [
       "<Figure size 400x400 with 1 Axes>"
      ]
     },
     "metadata": {},
     "output_type": "display_data"
    }
   ],
   "source": [
    "# PLOT\n",
    "plt.figure(figsize=(4,4))\n",
    "plt.title('Average of Pearson correlation across {} trials')\n",
    "plt.plot(durations, avg_pearsons, '.', color='indianred')\n",
    "plt.xlabel('Duration of the stimulus (s)')\n",
    "#plt.xscale('log')\n",
    "plt.ylabel('Avg. cc')\n",
    "plt.grid()"
   ]
  },
  {
   "cell_type": "code",
   "execution_count": 4,
   "metadata": {},
   "outputs": [
    {
     "data": {
      "text/plain": [
       "array([1., 2., 3.])"
      ]
     },
     "execution_count": 4,
     "metadata": {},
     "output_type": "execute_result"
    }
   ],
   "source": [
    "daniela= np.array([[1,2,3],[1,2,3],[1,2,3]])\n",
    "np.mean(daniela, axis=0)"
   ]
  }
 ],
 "metadata": {
  "kernelspec": {
   "display_name": ".venv",
   "language": "python",
   "name": "python3"
  },
  "language_info": {
   "codemirror_mode": {
    "name": "ipython",
    "version": 3
   },
   "file_extension": ".py",
   "mimetype": "text/x-python",
   "name": "python",
   "nbconvert_exporter": "python",
   "pygments_lexer": "ipython3",
   "version": "3.12.2"
  }
 },
 "nbformat": 4,
 "nbformat_minor": 2
}
