{
 "cells": [
  {
   "cell_type": "markdown",
   "metadata": {},
   "source": [
    "# Exercise 1\n",
    "____\n",
    "\n",
    "Bellow, you'll find the code that was used to generate the activity of place cells on a linear track. Use the code and the decoding procedure you learned to explore how different features of the data impact our ability to decode position. \n",
    "\n",
    "<font color='teal'> **Q1.1** - Try to use different fractions of the data samples. How does the median error change when the number of available samples gets larger? </font>\n",
    "\n",
    "<font color='teal'> **Q1.2** - How many place cells do we need to reliably decode position? Try to re-do the decoding using only 10, 20, 30,... cells. How does the median error change? </font>\n",
    "\n",
    "<font color='teal'> **Q1.3** - Generate new data changing the firing rate noise. How does this impact decoding? </font>\n",
    "_____"
   ]
  },
  {
   "cell_type": "code",
   "execution_count": 1,
   "metadata": {},
   "outputs": [],
   "source": [
    "import numpy as np\n",
    "from scipy.stats import poisson\n",
    "import scipy.io\n",
    "import matplotlib.pyplot as plt\n",
    "from tqdm import tqdm"
   ]
  },
  {
   "cell_type": "code",
   "execution_count": 2,
   "metadata": {},
   "outputs": [
    {
     "data": {
      "image/png": "[encoded data removed]",
      "text/plain": [
       "<Figure size 500x200 with 1 Axes>"
      ]
     },
     "metadata": {},
     "output_type": "display_data"
    }
   ],
   "source": [
    "# Generate trajectory\n",
    "n_runs = 10 \n",
    "use_stops = False\n",
    "avg_running_speed = 10\n",
    "fps = 10\n",
    "track_length = 200\n",
    "bins = np.arange(0, track_length)\n",
    "\n",
    "running_speed_a = np.random.chisquare(10, n_runs)\n",
    "running_speed_b = np.random.chisquare(10, n_runs)\n",
    "\n",
    "stopping_time_a = np.random.chisquare(15, n_runs)\n",
    "stopping_time_b = np.random.chisquare(15, n_runs)\n",
    "\n",
    "x = np.array([])\n",
    "\n",
    "for i in range(n_runs):\n",
    "    \n",
    "    stop1 = np.zeros( int(stopping_time_a[i] * fps) )\n",
    "    run_length = int( len(bins) * fps / running_speed_a[i] )\n",
    "    run1 = np.linspace(0, float(len(bins) - 1), run_length)\n",
    "    \n",
    "    stop2 = np.ones((int(stopping_time_b[i]*fps),)) * (len(bins) - 1.)\n",
    "    run_length = int( len(bins) * fps / running_speed_b[i] )\n",
    "    run2 = np.linspace(len(bins) - 1, 0, run_length)\n",
    "    \n",
    "    if use_stops:\n",
    "        x = np.concatenate((x, stop1, run1, stop2, run2))\n",
    "    else:\n",
    "         x = np.concatenate((x, run1, run2))\n",
    "\n",
    "t = np.arange(len(x)) / fps\n",
    "\n",
    "plt.figure(figsize=(5,2))\n",
    "plt.plot(t, x, 'k')\n",
    "plt.grid()"
   ]
  },
  {
   "cell_type": "code",
   "execution_count": 3,
   "metadata": {},
   "outputs": [],
   "source": [
    "average_firing_rate = 5   # Peak firing rate, averaged across the population \n",
    "n_cells = 100 \n",
    "\n",
    "pf_centers = np.random.rand(n_cells) * track_length                          # Place field centers\n",
    "pf_size = np.random.gamma(10, size=n_cells)                                  # Place field widths \n",
    "pf_rate = np.random.exponential(scale=average_firing_rate, size=n_cells)     # Peak firing rate for each cell\n",
    "\n",
    "true_firing_rate_maps = np.zeros((n_cells, len(bins)))\n",
    "\n",
    "for i in range(n_cells):\n",
    "    # Gaussian spread firing rate\n",
    "    true_firing_rate_maps[i,:] = pf_rate[i] * np.exp( -(( bins - pf_centers[i])**2 ) / ( 2*pf_size[i]**2 ))"
   ]
  },
  {
   "cell_type": "markdown",
   "metadata": {},
   "source": [
    "<font color='teal'> **Q1.1** - Try to use different fractions of the data samples. How does the median error change when the number of available samples gets larger? </font>\n",
    "\n",
    "To explore the effect of using a different number of samples on the median error, we change the former by changing the `sampling_rate` (10, 100, 1000). What we observe is that "
   ]
  },
  {
   "cell_type": "code",
   "execution_count": 6,
   "metadata": {},
   "outputs": [
    {
     "name": "stdout",
     "output_type": "stream",
     "text": [
      "42860\n"
     ]
    }
   ],
   "source": [
    "# How many samples we collect each second\n",
    "sampling_rate = 100\n",
    "\n",
    "t_sampling = np.arange(0, t[-1], 1 / sampling_rate)\n",
    "\n",
    "# Given our sampling rate, what actual x's do we record\n",
    "x_sampling = np.floor(np.interp(t_sampling, t, x)) \n",
    "print(len(x_sampling))\n",
    "noise_firing_rate = 0.1 \n",
    "spike_times = []\n",
    "\n",
    "for i in range(n_cells):\n",
    "\n",
    "    inst_rate = true_firing_rate_maps[i, x_sampling.astype(np.int32)] + noise_firing_rate\n",
    "    spikes_loc = np.random.poisson(inst_rate / sampling_rate)\n",
    "    sp = np.argwhere(spikes_loc) # Find indices of non-zero elements\n",
    "    t_sp = t_sampling[sp]\n",
    "    spike_times.append(t_sp)\n",
    "\n",
    "# Extract the spike counts for each neuron\n",
    "spike_counts = np.asarray([np.histogram(s,t)[0] for s in spike_times])\n",
    "spike_counts = spike_counts.T"
   ]
  },
  {
   "cell_type": "code",
   "execution_count": 7,
   "metadata": {},
   "outputs": [
    {
     "name": "stderr",
     "output_type": "stream",
     "text": [
      "  0%|          | 0/4286 [00:00<?, ?it/s]"
     ]
    },
    {
     "name": "stderr",
     "output_type": "stream",
     "text": [
      "  7%|▋         | 319/4286 [00:03<00:46, 86.22it/s]\n"
     ]
    },
    {
     "ename": "KeyboardInterrupt",
     "evalue": "",
     "output_type": "error",
     "traceback": [
      "\u001b[1;31m---------------------------------------------------------------------------\u001b[0m",
      "\u001b[1;31mKeyboardInterrupt\u001b[0m                         Traceback (most recent call last)",
      "Cell \u001b[1;32mIn[7], line 22\u001b[0m\n\u001b[0;32m     18\u001b[0m             decoded_location[t_bin] \u001b[38;5;241m=\u001b[39m np\u001b[38;5;241m.\u001b[39mnan\n\u001b[0;32m     20\u001b[0m     \u001b[38;5;28;01mreturn\u001b[39;00m decoded_location\n\u001b[1;32m---> 22\u001b[0m decoded_locations \u001b[38;5;241m=\u001b[39m \u001b[43mbayes_decoding\u001b[49m\u001b[43m(\u001b[49m\u001b[43mx\u001b[49m\u001b[43m,\u001b[49m\u001b[43mt\u001b[49m\u001b[43m,\u001b[49m\u001b[43m \u001b[49m\u001b[43mtrue_firing_rate_maps\u001b[49m\u001b[43m,\u001b[49m\u001b[43m \u001b[49m\u001b[43mspike_counts\u001b[49m\u001b[43m,\u001b[49m\u001b[43m \u001b[49m\u001b[43mfps\u001b[49m\u001b[43m)\u001b[49m\n",
      "Cell \u001b[1;32mIn[7], line 13\u001b[0m, in \u001b[0;36mbayes_decoding\u001b[1;34m(x, t, firing_rate_map, spike_counts, fps)\u001b[0m\n\u001b[0;32m     10\u001b[0m     posterior \u001b[38;5;241m=\u001b[39m np\u001b[38;5;241m.\u001b[39mempty(firing_rate_map\u001b[38;5;241m.\u001b[39mshape[\u001b[38;5;241m-\u001b[39m\u001b[38;5;241m1\u001b[39m])\n\u001b[0;32m     12\u001b[0m     \u001b[38;5;28;01mfor\u001b[39;00m i \u001b[38;5;129;01min\u001b[39;00m \u001b[38;5;28mrange\u001b[39m(\u001b[38;5;28mlen\u001b[39m(posterior)):\n\u001b[1;32m---> 13\u001b[0m         posterior[i] \u001b[38;5;241m=\u001b[39m \u001b[38;5;28msum\u001b[39m(\u001b[43mpoisson\u001b[49m\u001b[38;5;241;43m.\u001b[39;49m\u001b[43mlogpmf\u001b[49m\u001b[43m(\u001b[49m\u001b[43mspike_counts\u001b[49m\u001b[43m[\u001b[49m\u001b[43mt_bin\u001b[49m\u001b[43m,\u001b[49m\u001b[43m:\u001b[49m\u001b[43m]\u001b[49m\u001b[43m,\u001b[49m\u001b[43m \u001b[49m\u001b[43mfiring_rate_map\u001b[49m\u001b[43m[\u001b[49m\u001b[43m:\u001b[49m\u001b[43m,\u001b[49m\u001b[43mi\u001b[49m\u001b[43m]\u001b[49m\u001b[43m \u001b[49m\u001b[38;5;241;43m/\u001b[39;49m\u001b[43m \u001b[49m\u001b[43mfps\u001b[49m\u001b[43m)\u001b[49m, \u001b[38;5;28mpow\u001b[39m(\u001b[38;5;241m1\u001b[39m, \u001b[38;5;241m-\u001b[39m\u001b[38;5;241m15\u001b[39m))\n\u001b[0;32m     15\u001b[0m     decoded_location[t_bin] \u001b[38;5;241m=\u001b[39m bins[np\u001b[38;5;241m.\u001b[39margmax(posterior)]\n\u001b[0;32m     17\u001b[0m \u001b[38;5;28;01melse\u001b[39;00m:\n",
      "File \u001b[1;32mc:\\Users\\Utilizador\\Desktop\\Master's\\4th Quarter\\NA\\NA_git_env\\.venv\\Lib\\site-packages\\scipy\\stats\\_distn_infrastructure.py:3462\u001b[0m, in \u001b[0;36mrv_discrete.logpmf\u001b[1;34m(self, k, *args, **kwds)\u001b[0m\n\u001b[0;32m   3460\u001b[0m output \u001b[38;5;241m=\u001b[39m empty(shape(cond), \u001b[38;5;124m'\u001b[39m\u001b[38;5;124md\u001b[39m\u001b[38;5;124m'\u001b[39m)\n\u001b[0;32m   3461\u001b[0m output\u001b[38;5;241m.\u001b[39mfill(\u001b[38;5;241m-\u001b[39minf)\n\u001b[1;32m-> 3462\u001b[0m \u001b[43mplace\u001b[49m\u001b[43m(\u001b[49m\u001b[43moutput\u001b[49m\u001b[43m,\u001b[49m\u001b[43m \u001b[49m\u001b[43m(\u001b[49m\u001b[38;5;241;43m1\u001b[39;49m\u001b[38;5;241;43m-\u001b[39;49m\u001b[43mcond0\u001b[49m\u001b[43m)\u001b[49m\u001b[43m \u001b[49m\u001b[38;5;241;43m+\u001b[39;49m\u001b[43m \u001b[49m\u001b[43mnp\u001b[49m\u001b[38;5;241;43m.\u001b[39;49m\u001b[43misnan\u001b[49m\u001b[43m(\u001b[49m\u001b[43mk\u001b[49m\u001b[43m)\u001b[49m\u001b[43m,\u001b[49m\u001b[43m \u001b[49m\u001b[38;5;28;43mself\u001b[39;49m\u001b[38;5;241;43m.\u001b[39;49m\u001b[43mbadvalue\u001b[49m\u001b[43m)\u001b[49m\n\u001b[0;32m   3463\u001b[0m \u001b[38;5;28;01mif\u001b[39;00m np\u001b[38;5;241m.\u001b[39many(cond):\n\u001b[0;32m   3464\u001b[0m     goodargs \u001b[38;5;241m=\u001b[39m argsreduce(cond, \u001b[38;5;241m*\u001b[39m((k,)\u001b[38;5;241m+\u001b[39margs))\n",
      "File \u001b[1;32mc:\\Users\\Utilizador\\Desktop\\Master's\\4th Quarter\\NA\\NA_git_env\\.venv\\Lib\\site-packages\\numpy\\lib\\function_base.py:1954\u001b[0m, in \u001b[0;36mplace\u001b[1;34m(arr, mask, vals)\u001b[0m\n\u001b[0;32m   1917\u001b[0m \u001b[38;5;129m@array_function_dispatch\u001b[39m(_place_dispatcher)\n\u001b[0;32m   1918\u001b[0m \u001b[38;5;28;01mdef\u001b[39;00m \u001b[38;5;21mplace\u001b[39m(arr, mask, vals):\n\u001b[0;32m   1919\u001b[0m \u001b[38;5;250m    \u001b[39m\u001b[38;5;124;03m\"\"\"\u001b[39;00m\n\u001b[0;32m   1920\u001b[0m \u001b[38;5;124;03m    Change elements of an array based on conditional and input values.\u001b[39;00m\n\u001b[0;32m   1921\u001b[0m \n\u001b[1;32m   (...)\u001b[0m\n\u001b[0;32m   1952\u001b[0m \n\u001b[0;32m   1953\u001b[0m \u001b[38;5;124;03m    \"\"\"\u001b[39;00m\n\u001b[1;32m-> 1954\u001b[0m     \u001b[38;5;28;01mreturn\u001b[39;00m \u001b[43m_place\u001b[49m\u001b[43m(\u001b[49m\u001b[43marr\u001b[49m\u001b[43m,\u001b[49m\u001b[43m \u001b[49m\u001b[43mmask\u001b[49m\u001b[43m,\u001b[49m\u001b[43m \u001b[49m\u001b[43mvals\u001b[49m\u001b[43m)\u001b[49m\n",
      "\u001b[1;31mKeyboardInterrupt\u001b[0m: "
     ]
    }
   ],
   "source": [
    "def bayes_decoding(x, t, firing_rate_map, spike_counts, fps):\n",
    "\n",
    "    x, t = x[:-1], t[:-1]\n",
    "    decoded_location = np.zeros(len(x))\n",
    "\n",
    "    for t_bin in tqdm(range(len(t))):\n",
    "\n",
    "        # Check if the time bin has spikes\n",
    "        if sum(spike_counts[t_bin,:]) > 0:\n",
    "            posterior = np.empty(firing_rate_map.shape[-1])\n",
    "\n",
    "            for i in range(len(posterior)):\n",
    "                posterior[i] = sum(poisson.logpmf(spike_counts[t_bin,:], firing_rate_map[:,i] / fps), pow(1, -15))\n",
    "            \n",
    "            decoded_location[t_bin] = bins[np.argmax(posterior)]\n",
    "        \n",
    "        else:\n",
    "            decoded_location[t_bin] = np.nan\n",
    "\n",
    "    return decoded_location\n",
    "\n",
    "decoded_locations = bayes_decoding(x,t, true_firing_rate_maps, spike_counts, fps)"
   ]
  },
  {
   "cell_type": "code",
   "execution_count": 5,
   "metadata": {},
   "outputs": [
    {
     "ename": "NameError",
     "evalue": "name 'decoded_locations' is not defined",
     "output_type": "error",
     "traceback": [
      "\u001b[1;31m---------------------------------------------------------------------------\u001b[0m",
      "\u001b[1;31mNameError\u001b[0m                                 Traceback (most recent call last)",
      "Cell \u001b[1;32mIn[5], line 3\u001b[0m\n\u001b[0;32m      1\u001b[0m \u001b[38;5;66;03m# Plot the resulting, prediction/decoding\u001b[39;00m\n\u001b[0;32m      2\u001b[0m plt\u001b[38;5;241m.\u001b[39mfigure(figsize\u001b[38;5;241m=\u001b[39m(\u001b[38;5;241m6\u001b[39m,\u001b[38;5;241m3\u001b[39m))\n\u001b[1;32m----> 3\u001b[0m plt\u001b[38;5;241m.\u001b[39mplot(\u001b[43mdecoded_locations\u001b[49m, \u001b[38;5;124m'\u001b[39m\u001b[38;5;124m.\u001b[39m\u001b[38;5;124m'\u001b[39m, color\u001b[38;5;241m=\u001b[39m\u001b[38;5;124m'\u001b[39m\u001b[38;5;124mindianred\u001b[39m\u001b[38;5;124m'\u001b[39m, label\u001b[38;5;241m=\u001b[39m\u001b[38;5;124m'\u001b[39m\u001b[38;5;124mDecoded\u001b[39m\u001b[38;5;124m'\u001b[39m)\n\u001b[0;32m      4\u001b[0m plt\u001b[38;5;241m.\u001b[39mplot(x[:\u001b[38;5;241m-\u001b[39m\u001b[38;5;241m1\u001b[39m], \u001b[38;5;124m'\u001b[39m\u001b[38;5;124mk\u001b[39m\u001b[38;5;124m'\u001b[39m, label\u001b[38;5;241m=\u001b[39m\u001b[38;5;124m'\u001b[39m\u001b[38;5;124mGround truth\u001b[39m\u001b[38;5;124m'\u001b[39m)\n\u001b[0;32m      5\u001b[0m plt\u001b[38;5;241m.\u001b[39mgrid()\n",
      "\u001b[1;31mNameError\u001b[0m: name 'decoded_locations' is not defined"
     ]
    },
    {
     "data": {
      "text/plain": [
       "<Figure size 600x300 with 0 Axes>"
      ]
     },
     "metadata": {},
     "output_type": "display_data"
    }
   ],
   "source": [
    "# Plot the resulting, prediction/decoding\n",
    "plt.figure(figsize=(6,3))\n",
    "plt.plot(decoded_locations, '.', color='indianred', label='Decoded')\n",
    "plt.plot(x[:-1], 'k', label='Ground truth')\n",
    "plt.grid()\n",
    "plt.legend(shadow=True)\n",
    "plt.show()\n",
    "\n",
    "# Error distribution\n",
    "mse = np.sqrt((x[:-1] - decoded_locations)**2)\n",
    "plt.figure(figsize=(8,4))\n",
    "plt.hist(mse, bins=300, color='teal', alpha=0.75)\n",
    "plt.axvline(x = np.nanmedian(mse), c='k')\n",
    "plt.grid()\n",
    "plt.xlim([0,50])\n",
    "plt.title('Error distribution')\n",
    "print(f'Median error: {np.nanmedian(mse)} cm')"
   ]
  },
  {
   "cell_type": "code",
   "execution_count": null,
   "metadata": {},
   "outputs": [],
   "source": [
    "sr = np.arange(10, 1000, 50)\n",
    "medians = np.zeros(len(sr))\n",
    "for s, sampling_rate in enumerate(sr):\n",
    "   \n",
    "    t_sampling = np.arange(0, t[-1], 1 / sampling_rate)   \n",
    "    x_sampling = np.floor(np.interp(t_sampling, t, x)) \n",
    "    noise_firing_rate = 0.1 \n",
    "    spike_times = []\n",
    "    for i in range(n_cells):\n",
    "        inst_rate = true_firing_rate_maps[i, x_sampling.astype(np.int32)] + noise_firing_rate\n",
    "        spikes_loc = np.random.poisson(inst_rate / sampling_rate)\n",
    "        sp = np.argwhere(spikes_loc) \n",
    "        t_sp = t_sampling[sp]\n",
    "        spike_times.append(t_sp)\n",
    "    spike_counts = np.asarray([np.histogram(s,t)[0] for s in spike_times])\n",
    "    spike_counts = spike_counts.T\n",
    "\n",
    "    decoded_locations = bayes_decoding(x,t, true_firing_rate_maps, spike_counts, fps)\n",
    "    mse = np.sqrt((x[:-1] - decoded_locations)**2)\n",
    "    medians[s] =  np.nanmedian(mse)"
   ]
  },
  {
   "cell_type": "code",
   "execution_count": null,
   "metadata": {},
   "outputs": [],
   "source": [
    "plt.plot(sr, medians,'.-k')\n",
    "plt.grid()\n",
    "plt.xlabel('Sampling rate')\n",
    "plt.ylabel('Median')"
   ]
  },
  {
   "cell_type": "markdown",
   "metadata": {},
   "source": [
    "<font color='teal'> **Q1.2** - How many place cells do we need to reliably decode position? Try to re-do the decoding using only 10, 20, 30,... cells. How does the median error change? </font>\n"
   ]
  },
  {
   "cell_type": "code",
   "execution_count": null,
   "metadata": {},
   "outputs": [],
   "source": [
    "number_of_cells = np.arange(1,9,1) * 10\n",
    "sampling_rate = 100\n",
    "medians_n_cells = []\n",
    "\n",
    "for n_cells in number_of_cells:\n",
    "   \n",
    "    t_sampling = np.arange(0, t[-1], 1 / sampling_rate)   \n",
    "    x_sampling = np.floor(np.interp(t_sampling, t, x)) \n",
    "    noise_firing_rate = 0.1 \n",
    "    spike_times = []\n",
    "    \n",
    "    for i in range(n_cells):\n",
    "        inst_rate = true_firing_rate_maps[i, x_sampling.astype(np.int32)] + noise_firing_rate\n",
    "        spikes_loc = np.random.poisson(inst_rate / sampling_rate)\n",
    "        sp = np.argwhere(spikes_loc) \n",
    "        t_sp = t_sampling[sp]\n",
    "        spike_times.append(t_sp)\n",
    "    spike_counts = np.asarray([np.histogram(s,t)[0] for s in spike_times])\n",
    "    spike_counts = spike_counts.T\n",
    "\n",
    "    decoded_locations = bayes_decoding(x,t, true_firing_rate_maps, spike_counts, fps)\n",
    "    mse = np.sqrt((x[:-1] - decoded_locations)**2)\n",
    "    medians_n_cells[s] =  np.nanmedian(mse)"
   ]
  },
  {
   "cell_type": "code",
   "execution_count": null,
   "metadata": {},
   "outputs": [],
   "source": []
  }
 ],
 "metadata": {
  "kernelspec": {
   "display_name": ".venv",
   "language": "python",
   "name": "python3"
  },
  "language_info": {
   "codemirror_mode": {
    "name": "ipython",
    "version": 3
   },
   "file_extension": ".py",
   "mimetype": "text/x-python",
   "name": "python",
   "nbconvert_exporter": "python",
   "pygments_lexer": "ipython3",
   "version": "3.12.2"
  }
 },
 "nbformat": 4,
 "nbformat_minor": 2
}
